{
 "cells": [
  {
   "cell_type": "code",
   "execution_count": 37,
   "id": "350c84bb-8bad-40b5-bf67-69827ef8b558",
   "metadata": {},
   "outputs": [],
   "source": [
    "import pandas as pd\n",
    "import numpy as np"
   ]
  },
  {
   "cell_type": "code",
   "execution_count": 38,
   "id": "701300ce-0b71-4fe5-af2c-6a9bf8c4f89e",
   "metadata": {},
   "outputs": [
    {
     "name": "stdout",
     "output_type": "stream",
     "text": [
      "     A  B\n",
      "0  1.0  X\n",
      "1  2.0  Y\n",
      "2  0.0  0\n",
      "3  4.0  Z\n"
     ]
    }
   ],
   "source": [
    "data = {'A': [1, 2, np.nan, 4], 'B': ['X', 'Y', np.nan, 'Z']}\n",
    "df = pd.DataFrame(data)\n",
    "df_filled = df.fillna(0)\n",
    "print(df_filled)"
   ]
  },
  {
   "cell_type": "code",
   "execution_count": null,
   "id": "59d28930-658a-45b2-bfb3-140b5f02b6d6",
   "metadata": {},
   "outputs": [],
   "source": []
  },
  {
   "cell_type": "code",
   "execution_count": null,
   "id": "ac38d32b-204a-435a-88bf-e283b7b737e6",
   "metadata": {},
   "outputs": [],
   "source": []
  },
  {
   "cell_type": "code",
   "execution_count": null,
   "id": "1b2d32d9-fd41-49c5-bb7b-1c66b224d2cd",
   "metadata": {},
   "outputs": [],
   "source": []
  },
  {
   "cell_type": "code",
   "execution_count": null,
   "id": "b789889a-97f4-49e7-aa24-72a5862ecce8",
   "metadata": {},
   "outputs": [],
   "source": []
  }
 ],
 "metadata": {
  "kernelspec": {
   "display_name": "Python 3 (ipykernel)",
   "language": "python",
   "name": "python3"
  },
  "language_info": {
   "codemirror_mode": {
    "name": "ipython",
    "version": 3
   },
   "file_extension": ".py",
   "mimetype": "text/x-python",
   "name": "python",
   "nbconvert_exporter": "python",
   "pygments_lexer": "ipython3",
   "version": "3.13.5"
  }
 },
 "nbformat": 4,
 "nbformat_minor": 5
}
