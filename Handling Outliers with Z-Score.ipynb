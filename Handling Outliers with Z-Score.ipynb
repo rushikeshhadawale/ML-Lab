{
 "cells": [
  {
   "cell_type": "code",
   "execution_count": 11,
   "id": "d464e4cf-4916-44ce-bec9-cd1ceb7d6779",
   "metadata": {},
   "outputs": [],
   "source": [
    "import pandas as pd\n",
    "from scipy import stats\n",
    "import numpy as np"
   ]
  },
  {
   "cell_type": "code",
   "execution_count": 12,
   "id": "ec683cc8-730c-414a-a3e2-f0c502915ea0",
   "metadata": {},
   "outputs": [
    {
     "name": "stdout",
     "output_type": "stream",
     "text": [
      "   Value\n",
      "0     10\n",
      "1     20\n",
      "2    100\n",
      "3     30\n",
      "4     40\n"
     ]
    }
   ],
   "source": [
    "data = {'Value': [10, 20, 100, 30, 40]}\n",
    "df = pd.DataFrame(data)\n",
    "z_scores = np.abs(stats.zscore(df))\n",
    "df_no_outliers = df[(z_scores < 3).all(axis=1)]\n",
    "print(df_no_outliers)"
   ]
  },
  {
   "cell_type": "code",
   "execution_count": null,
   "id": "708571aa-9956-4f1e-94de-527ddad66658",
   "metadata": {},
   "outputs": [],
   "source": []
  }
 ],
 "metadata": {
  "kernelspec": {
   "display_name": "Python 3 (ipykernel)",
   "language": "python",
   "name": "python3"
  },
  "language_info": {
   "codemirror_mode": {
    "name": "ipython",
    "version": 3
   },
   "file_extension": ".py",
   "mimetype": "text/x-python",
   "name": "python",
   "nbconvert_exporter": "python",
   "pygments_lexer": "ipython3",
   "version": "3.13.5"
  }
 },
 "nbformat": 4,
 "nbformat_minor": 5
}
