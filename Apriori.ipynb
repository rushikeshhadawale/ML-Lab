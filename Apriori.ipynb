{
 "cells": [
  {
   "cell_type": "code",
   "execution_count": 7,
   "id": "86221127-b664-49d1-bc5a-ed63921b4e99",
   "metadata": {},
   "outputs": [],
   "source": [
    "import pandas as pd\n",
    "import numpy as np\n",
    "import warnings\n",
    "from mlxtend.frequent_patterns import apriori, association_rules\n",
    "\n",
    "# Expanded dataset\n",
    "data = {\n",
    "    'Milk': [1, 1, 0, 1, 0, 1, 0, 1, 1, 0],\n",
    "    'Bread': [1, 0, 1, 1, 1, 0, 1, 0, 1, 1],\n",
    "    'Butter': [0, 1, 1, 1, 1, 1, 0, 1, 1, 0],\n",
    "    'Eggs': [1, 0, 0, 1, 1, 1, 1, 0, 0, 1],\n",
    "    'Cheese': [0, 1, 1, 0, 1, 1, 0, 1, 0, 1],\n",
    "    'Diaper': [0, 1, 0, 1, 0, 1, 1, 1, 0, 0],\n",
    "    'Beer': [1, 0, 1, 0, 1, 0, 1, 0, 1, 1]\n",
    "}\n",
    "df = pd.DataFrame(data)"
   ]
  },
  {
   "cell_type": "code",
   "execution_count": 8,
   "id": "4a432796-568f-4498-b93a-53b7621cc222",
   "metadata": {},
   "outputs": [
    {
     "name": "stderr",
     "output_type": "stream",
     "text": [
      "C:\\Users\\RUSHIKESH\\AppData\\Local\\Programs\\Python\\Python313\\Lib\\site-packages\\mlxtend\\frequent_patterns\\fpcommon.py:161: DeprecationWarning: DataFrames with non-bool types result in worse computationalperformance and their support might be discontinued in the future.Please use a DataFrame with bool type\n",
      "  warnings.warn(\n"
     ]
    }
   ],
   "source": [
    "# Generating frequent itemsets\n",
    "frequent_itemsets = apriori(df, min_support=0.5, use_colnames=True)"
   ]
  },
  {
   "cell_type": "code",
   "execution_count": 9,
   "id": "79811866-28bd-492e-8b2e-851c4c999e42",
   "metadata": {},
   "outputs": [
    {
     "name": "stdout",
     "output_type": "stream",
     "text": [
      "  antecedents consequents  support  confidence      lift\n",
      "0    (Butter)      (Milk)      0.5    0.714286  1.190476\n",
      "1      (Milk)    (Butter)      0.5    0.833333  1.190476\n",
      "2     (Bread)      (Eggs)      0.5    0.714286  1.190476\n",
      "3      (Eggs)     (Bread)      0.5    0.833333  1.190476\n",
      "4     (Bread)      (Beer)      0.6    0.857143  1.428571\n",
      "5      (Beer)     (Bread)      0.6    1.000000  1.428571\n",
      "6    (Butter)    (Cheese)      0.5    0.714286  1.190476\n",
      "7    (Cheese)    (Butter)      0.5    0.833333  1.190476\n"
     ]
    },
    {
     "name": "stderr",
     "output_type": "stream",
     "text": [
      "C:\\Users\\RUSHIKESH\\AppData\\Local\\Programs\\Python\\Python313\\Lib\\site-packages\\mlxtend\\frequent_patterns\\fpcommon.py:161: DeprecationWarning: DataFrames with non-bool types result in worse computationalperformance and their support might be discontinued in the future.Please use a DataFrame with bool type\n",
      "  warnings.warn(\n"
     ]
    }
   ],
   "source": [
    "# Generating frequent itemsets\n",
    "frequent_itemsets = apriori(df, min_support=0.5, use_colnames=True)\n",
    "\n",
    "# Generating association rules\n",
    "rules = association_rules(frequent_itemsets, metric='confidence', min_threshold=0.6)\n",
    "print(rules[['antecedents', 'consequents', 'support', 'confidence', 'lift']])"
   ]
  },
  {
   "cell_type": "code",
   "execution_count": 10,
   "id": "2f07ed4d-bf3a-4617-bab0-3fd39163b57c",
   "metadata": {},
   "outputs": [
    {
     "name": "stdout",
     "output_type": "stream",
     "text": [
      "    support    itemsets\n",
      "0  0.333333  (target=0)\n",
      "1  0.333333  (target=1)\n",
      "2  0.333333  (target=2)\n"
     ]
    }
   ],
   "source": [
    "from mlxtend.frequent_patterns import apriori\n",
    "from mlxtend.preprocessing import TransactionEncoder\n",
    "from sklearn import datasets\n",
    "\n",
    "# Load the iris dataset\n",
    "iris = datasets.load_iris()\n",
    "\n",
    "# Convert the dataset into a list of transactions\n",
    "transactions = []\n",
    "for i in range(len(iris.data)):\n",
    "   transaction = []\n",
    "   transaction.append('sepal_length=' + str(iris.data[i][0]))\n",
    "   transaction.append('sepal_width=' + str(iris.data[i][1]))\n",
    "   transaction.append('petal_length=' + str(iris.data[i][2]))\n",
    "   transaction.append('petal_width=' + str(iris.data[i][3]))\n",
    "   transaction.append('target=' + str(iris.target[i]))\n",
    "   transactions.append(transaction)\n",
    "# Encode the transactions using one-hot encoding\n",
    "te = TransactionEncoder()\n",
    "te_ary = te.fit(transactions).transform(transactions)\n",
    "df = pd.DataFrame(te_ary, columns=te.columns_)\n",
    "\n",
    "# Find frequent itemsets with a minimum support of 0.3\n",
    "frequent_itemsets = apriori(df, min_support=0.3, use_colnames=True)\n",
    "\n",
    "# Print the frequent itemsets\n",
    "print(frequent_itemsets)"
   ]
  },
  {
   "cell_type": "code",
   "execution_count": null,
   "id": "b518c435-4efc-473f-8d52-669c752a0f8e",
   "metadata": {},
   "outputs": [],
   "source": []
  }
 ],
 "metadata": {
  "kernelspec": {
   "display_name": "Python 3 (ipykernel)",
   "language": "python",
   "name": "python3"
  },
  "language_info": {
   "codemirror_mode": {
    "name": "ipython",
    "version": 3
   },
   "file_extension": ".py",
   "mimetype": "text/x-python",
   "name": "python",
   "nbconvert_exporter": "python",
   "pygments_lexer": "ipython3",
   "version": "3.13.5"
  }
 },
 "nbformat": 4,
 "nbformat_minor": 5
}
