{
 "cells": [
  {
   "cell_type": "code",
   "execution_count": 1,
   "id": "d464e4cf-4916-44ce-bec9-cd1ceb7d6779",
   "metadata": {},
   "outputs": [],
   "source": [
    "import pandas as pd"
   ]
  },
  {
   "cell_type": "code",
   "execution_count": 3,
   "id": "ec683cc8-730c-414a-a3e2-f0c502915ea0",
   "metadata": {},
   "outputs": [
    {
     "name": "stdout",
     "output_type": "stream",
     "text": [
      "   A  B\n",
      "0  1  X\n",
      "1  2  Y\n",
      "3  3  Z\n"
     ]
    }
   ],
   "source": [
    "data = {'A': [1, 2, 2, 3], 'B': ['X', 'Y', 'Y', 'Z']}\n",
    "df = pd.DataFrame(data)\n",
    "df_unique = df.drop_duplicates()\n",
    "print(df_unique)"
   ]
  },
  {
   "cell_type": "code",
   "execution_count": null,
   "id": "708571aa-9956-4f1e-94de-527ddad66658",
   "metadata": {},
   "outputs": [],
   "source": []
  }
 ],
 "metadata": {
  "kernelspec": {
   "display_name": "Python 3 (ipykernel)",
   "language": "python",
   "name": "python3"
  },
  "language_info": {
   "codemirror_mode": {
    "name": "ipython",
    "version": 3
   },
   "file_extension": ".py",
   "mimetype": "text/x-python",
   "name": "python",
   "nbconvert_exporter": "python",
   "pygments_lexer": "ipython3",
   "version": "3.13.5"
  }
 },
 "nbformat": 4,
 "nbformat_minor": 5
}
