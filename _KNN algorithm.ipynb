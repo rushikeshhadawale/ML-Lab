{
 "cells": [
  {
   "cell_type": "code",
   "execution_count": 1,
   "id": "aa8d5b55-b826-461c-b358-6107125b08c9",
   "metadata": {},
   "outputs": [
    {
     "name": "stdout",
     "output_type": "stream",
     "text": [
      "Predicted class: A\n"
     ]
    }
   ],
   "source": [
    "import math\n",
    "from collections import Counter\n",
    "\n",
    "def euclidean_distance(point1, point2):\n",
    "    # Calculate the Euclidean distance between two points\n",
    "    distance = 0\n",
    "    for i in range(len(point1)):\n",
    "        distance += (point1[i] - point2[i]) ** 2\n",
    "    return math.sqrt(distance)\n",
    "\n",
    "def knn_predict(training_data, test_point, k):\n",
    "    # training_data: list of tuples (features, label)\n",
    "    # test_point: a list or tuple of features\n",
    "    # k: number of neighbors\n",
    "    \n",
    "    # Calculate distances between test_point and all training data\n",
    "    distances = []\n",
    "    for features, label in training_data:\n",
    "        dist = euclidean_distance(features, test_point)\n",
    "        distances.append((dist, label))\n",
    "    \n",
    "    # Sort based on distance\n",
    "    distances.sort(key=lambda x: x[0])\n",
    "    \n",
    "    # Get the labels of the k nearest neighbors\n",
    "    neighbors_labels = [label for _, label in distances[:k]]\n",
    "    \n",
    "    # Majority vote\n",
    "    vote_result = Counter(neighbors_labels).most_common(1)[0][0]\n",
    "    return vote_result\n",
    "\n",
    "# Example usage:\n",
    "training_data = [\n",
    "    ([2.0, 3.0], 'A'),\n",
    "    ([1.0, 1.0], 'A'),\n",
    "    ([4.0, 5.0], 'B'),\n",
    "    ([6.0, 7.0], 'B'),\n",
    "]\n",
    "\n",
    "test_point = [0.0, 1.0]\n",
    "k = 3\n",
    "\n",
    "prediction = knn_predict(training_data, test_point, k)\n",
    "print(f\"Predicted class: {prediction}\")\n"
   ]
  },
  {
   "cell_type": "code",
   "execution_count": null,
   "id": "dd1369b5-a3f9-462d-971d-d0ec4c678817",
   "metadata": {},
   "outputs": [],
   "source": []
  }
 ],
 "metadata": {
  "kernelspec": {
   "display_name": "Python 3 (ipykernel)",
   "language": "python",
   "name": "python3"
  },
  "language_info": {
   "codemirror_mode": {
    "name": "ipython",
    "version": 3
   },
   "file_extension": ".py",
   "mimetype": "text/x-python",
   "name": "python",
   "nbconvert_exporter": "python",
   "pygments_lexer": "ipython3",
   "version": "3.13.5"
  }
 },
 "nbformat": 4,
 "nbformat_minor": 5
}
