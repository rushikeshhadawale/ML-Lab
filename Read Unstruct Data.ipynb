{
 "cells": [
  {
   "cell_type": "code",
   "execution_count": 1,
   "id": "350c84bb-8bad-40b5-bf67-69827ef8b558",
   "metadata": {},
   "outputs": [],
   "source": [
    "import pandas as pd"
   ]
  },
  {
   "cell_type": "code",
   "execution_count": 8,
   "id": "ac38d32b-204a-435a-88bf-e283b7b737e6",
   "metadata": {},
   "outputs": [
    {
     "name": "stdout",
     "output_type": "stream",
     "text": [
      "fruit_label,fruit_name,fruit_subtype,mass,width,height,color_score\n",
      "1,apple,granny_smith,192,8.4,7.3,0.55\n",
      "1,apple,granny_smith,180,8,6.8,0.59\n",
      "1,apple,granny_smith,176,7.4,7.2,0.6\n",
      "2,mandarin,mandarin,86,6.2,4.7,0.8\n",
      "2,mandarin,mandarin,84,6,4.6,0.79\n",
      "2,mandarin,mandarin,80,5.8,4.3,0.77\n",
      "2,mandarin,mandarin,80,5.9,4.3,0.81\n",
      "2,mandarin,mandarin,76,5.8,4,0.81\n",
      "1,apple,braeburn,178,7.1,7.8,0.92\n",
      "1,apple,braeburn,172,7.4,7,0.89\n",
      "1,apple,braeburn,166,6.9,7.3,0.93\n",
      "1,apple,braeburn,172,7.1,7.6,0.92\n",
      "1,apple,braeburn,154,7,7.1,0.88\n",
      "1,apple,golden_delicious,164,7.3,7.7,0.7\n",
      "1,apple,golden_delicious,152,7.6,7.3,0.69\n",
      "1,apple,golden_delicious,156,7.7,7.1,0.69\n",
      "1,apple,golden_delicious,156,7.6,7.5,0.67\n",
      "1,apple,golden_delicious,168,7.5,7.6,0.73\n",
      "1,apple,cripps_pink,162,7.5,7.1,0.83\n",
      "1,apple,cripps_pink,162,7.4,7.2,0.85\n",
      "1,apple,cripps_pink,160,7.5,7.5,0.86\n",
      "1,apple,cripps_pink,156,7.4,7.4,0.84\n",
      "1,apple,cripps_pink,140,7.3,7.1,0.87\n",
      "1,apple,cripps_pink,170,7.6,7.9,0.88\n",
      "3,orange,spanish_jumbo,342,9,9.4,0.75\n",
      "3,orange,spanish_jumbo,356,9.2,9.2,0.75\n",
      "3,orange,spanish_jumbo,362,9.6,9.2,0.74\n",
      "3,orange,selected_seconds,204,7.5,9.2,0.77\n",
      "3,orange,selected_seconds,140,6.7,7.1,0.72\n",
      "3,orange,selected_seconds,160,7,7.4,0.81\n",
      "3,orange,selected_seconds,158,7.1,7.5,0.79\n",
      "3,orange,selected_seconds,210,7.8,8,0.82\n",
      "3,orange,selected_seconds,164,7.2,7,0.8\n",
      "3,orange,turkey_navel,190,7.5,8.1,0.74\n",
      "3,orange,turkey_navel,142,7.6,7.8,0.75\n",
      "3,orange,turkey_navel,150,7.1,7.9,0.75\n",
      "3,orange,turkey_navel,160,7.1,7.6,0.76\n",
      "3,orange,turkey_navel,154,7.3,7.3,0.79\n",
      "3,orange,turkey_navel,158,7.2,7.8,0.77\n",
      "3,orange,turkey_navel,144,6.8,7.4,0.75\n",
      "3,orange,turkey_navel,154,7.1,7.5,0.78\n",
      "3,orange,turkey_navel,180,7.6,8.2,0.79\n",
      "3,orange,turkey_navel,154,7.2,7.2,0.82\n",
      "4,lemon,spanish_belsan,194,7.2,10.3,0.7\n",
      "4,lemon,spanish_belsan,200,7.3,10.5,0.72\n",
      "4,lemon,spanish_belsan,186,7.2,9.2,0.72\n",
      "4,lemon,spanish_belsan,216,7.3,10.2,0.71\n",
      "4,lemon,spanish_belsan,196,7.3,9.7,0.72\n",
      "4,lemon,spanish_belsan,174,7.3,10.1,0.72\n",
      "4,lemon,unknown,132,5.8,8.7,0.73\n",
      "4,lemon,unknown,130,6,8.2,0.71\n",
      "4,lemon,unknown,116,6,7.5,0.72\n",
      "4,lemon,unknown,118,5.9,8,0.72\n",
      "4,lemon,unknown,120,6,8.4,0.74\n",
      "4,lemon,unknown,116,6.1,8.5,0.71\n",
      "4,lemon,unknown,116,6.3,7.7,0.72\n",
      "4,lemon,unknown,116,5.9,8.1,0.73\n",
      "4,lemon,unknown,152,6.5,8.5,0.72\n",
      "4,lemon,unknown,118,6.1,8.1,0.7\n",
      "\n"
     ]
    }
   ],
   "source": [
    "with open('fruit_data.csv','r') as file:\n",
    "    data = file.read()\n",
    "    print(data)"
   ]
  },
  {
   "cell_type": "code",
   "execution_count": null,
   "id": "1b2d32d9-fd41-49c5-bb7b-1c66b224d2cd",
   "metadata": {},
   "outputs": [],
   "source": []
  },
  {
   "cell_type": "code",
   "execution_count": null,
   "id": "b789889a-97f4-49e7-aa24-72a5862ecce8",
   "metadata": {},
   "outputs": [],
   "source": []
  }
 ],
 "metadata": {
  "kernelspec": {
   "display_name": "Python 3 (ipykernel)",
   "language": "python",
   "name": "python3"
  },
  "language_info": {
   "codemirror_mode": {
    "name": "ipython",
    "version": 3
   },
   "file_extension": ".py",
   "mimetype": "text/x-python",
   "name": "python",
   "nbconvert_exporter": "python",
   "pygments_lexer": "ipython3",
   "version": "3.13.5"
  }
 },
 "nbformat": 4,
 "nbformat_minor": 5
}
