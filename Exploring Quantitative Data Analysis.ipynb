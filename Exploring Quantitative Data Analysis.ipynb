{
 "cells": [
  {
   "cell_type": "code",
   "execution_count": 9,
   "id": "350c84bb-8bad-40b5-bf67-69827ef8b558",
   "metadata": {},
   "outputs": [],
   "source": [
    "import pandas as pd\n",
    "import numpy as np"
   ]
  },
  {
   "cell_type": "code",
   "execution_count": 10,
   "id": "ac38d32b-204a-435a-88bf-e283b7b737e6",
   "metadata": {},
   "outputs": [
    {
     "name": "stdout",
     "output_type": "stream",
     "text": [
      "Mean: -0.03810043684910784\n",
      "Standard Deviation: 1.0376658544132547\n"
     ]
    }
   ],
   "source": [
    "data = np.random.normal(loc=0, scale=1, size=100)\n",
    "print(\"Mean:\", np.mean(data))\n",
    "print(\"Standard Deviation:\",np.std(data))"
   ]
  },
  {
   "cell_type": "code",
   "execution_count": null,
   "id": "1b2d32d9-fd41-49c5-bb7b-1c66b224d2cd",
   "metadata": {},
   "outputs": [],
   "source": []
  },
  {
   "cell_type": "code",
   "execution_count": null,
   "id": "b789889a-97f4-49e7-aa24-72a5862ecce8",
   "metadata": {},
   "outputs": [],
   "source": []
  }
 ],
 "metadata": {
  "kernelspec": {
   "display_name": "Python 3 (ipykernel)",
   "language": "python",
   "name": "python3"
  },
  "language_info": {
   "codemirror_mode": {
    "name": "ipython",
    "version": 3
   },
   "file_extension": ".py",
   "mimetype": "text/x-python",
   "name": "python",
   "nbconvert_exporter": "python",
   "pygments_lexer": "ipython3",
   "version": "3.13.5"
  }
 },
 "nbformat": 4,
 "nbformat_minor": 5
}
